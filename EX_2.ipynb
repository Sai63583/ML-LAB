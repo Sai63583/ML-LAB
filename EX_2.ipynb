{
  "nbformat": 4,
  "nbformat_minor": 0,
  "metadata": {
    "colab": {
      "provenance": [],
      "authorship_tag": "ABX9TyMLhQSW8FwoIyOm+LY3hk3X",
      "include_colab_link": true
    },
    "kernelspec": {
      "name": "python3",
      "display_name": "Python 3"
    },
    "language_info": {
      "name": "python"
    }
  },
  "cells": [
    {
      "cell_type": "markdown",
      "metadata": {
        "id": "view-in-github",
        "colab_type": "text"
      },
      "source": [
        "<a href=\"https://colab.research.google.com/github/Sai63583/ML-LAB/blob/main/EX_2.ipynb\" target=\"_parent\"><img src=\"https://colab.research.google.com/assets/colab-badge.svg\" alt=\"Open In Colab\"/></a>"
      ]
    },
    {
      "cell_type": "code",
      "source": [
        "import numpy as np\n",
        "\n",
        "class CandidateElimination:\n",
        "    def __init__(self, num_features):\n",
        "        self.num_features = num_features\n",
        "        self.S = self.initialize_S()\n",
        "        self.G = self.initialize_G()\n",
        "\n",
        "    def initialize_S(self):\n",
        "        return ['_' for _ in range(self.num_features)]\n",
        "\n",
        "    def initialize_G(self):\n",
        "        return [['?' for _ in range(self.num_features)]]\n",
        "\n",
        "    def generalize(self, instance):\n",
        "        for i in range(self.num_features):\n",
        "            if instance[i] != self.S[i]:\n",
        "                self.S[i] = '?'\n",
        "\n",
        "    def specialize(self, instance):\n",
        "        new_G = []\n",
        "        for g in self.G:\n",
        "            for i in range(self.num_features):\n",
        "                if instance[i] != g[i] and g[i] != '?':\n",
        "                    new_hypothesis = g.copy()\n",
        "                    new_hypothesis[i] = instance[i]\n",
        "                    new_G.append(new_hypothesis)\n",
        "        self.G = new_G\n",
        "\n",
        "    def eliminate_candidates(self, instance, target):\n",
        "        if target == 'positive':\n",
        "            self.specialize(instance)\n",
        "            for i in range(self.num_features):\n",
        "                if self.S[i] == '_':\n",
        "                    self.S[i] = instance[i]\n",
        "        else:\n",
        "            self.generalize(instance)\n",
        "            new_G = []\n",
        "            for g in self.G:\n",
        "                if not self.consistent_with(g, instance):\n",
        "                    new_G.append(g)\n",
        "            self.G = new_G\n",
        "\n",
        "    def consistent_with(self, hypothesis, instance):\n",
        "        for i in range(self.num_features):\n",
        "            if hypothesis[i] != '?' and hypothesis[i] != instance[i]:\n",
        "                return False\n",
        "        return True\n",
        "\n",
        "    def fit(self, X, y):\n",
        "        for i in range(len(X)):\n",
        "            instance = X[i]\n",
        "            target = y[i]\n",
        "            self.eliminate_candidates(instance, target)\n",
        "\n",
        "    def predict(self, instance):\n",
        "        for i in range(self.num_features):\n",
        "            if self.S[i] != '?' and self.S[i] != instance[i]:\n",
        "                return 'negative'\n",
        "        return 'positive'\n",
        "\n",
        "# Example usage:\n",
        "\n",
        "# Training data\n",
        "X = np.array([\n",
        "    ['Sunny', 'Warm', 'Normal', 'Strong', 'Warm', 'Same'],\n",
        "    ['Sunny', 'Warm', 'High', 'Strong', 'Warm', 'Same'],\n",
        "    ['Rainy', 'Cold', 'High', 'Strong', 'Warm', 'Change'],\n",
        "    ['Sunny', 'Warm', 'High', 'Strong', 'Cool', 'Change']\n",
        "])\n",
        "\n",
        "y = np.array(['positive', 'positive', 'negative', 'positive'])\n",
        "\n",
        "# Create and train the model\n",
        "model = CandidateElimination(num_features=6)\n",
        "model.fit(X, y)\n",
        "\n",
        "# Test the model\n",
        "test_instance = ['Sunny', 'Warm', 'Normal', 'Strong', 'warm', 'Change']\n",
        "prediction = model.predict(test_instance)\n",
        "print(f\"The prediction for instance {test_instance} is: {prediction}\")\n",
        "\n",
        "output\n",
        "The prediction for instance ['Sunny', 'Warm', 'Normal', 'Strong', 'warm', 'Change'] is: negative\n",
        "Q"
      ],
      "metadata": {
        "id": "aZK8dk1aELF_"
      },
      "execution_count": null,
      "outputs": []
    }
  ]
}