{
  "nbformat": 4,
  "nbformat_minor": 0,
  "metadata": {
    "colab": {
      "provenance": [],
      "authorship_tag": "ABX9TyNYPmJ68JTZTxIbn0uev9tt",
      "include_colab_link": true
    },
    "kernelspec": {
      "name": "python3",
      "display_name": "Python 3"
    },
    "language_info": {
      "name": "python"
    }
  },
  "cells": [
    {
      "cell_type": "markdown",
      "metadata": {
        "id": "view-in-github",
        "colab_type": "text"
      },
      "source": [
        "<a href=\"https://colab.research.google.com/github/Sai63583/ML-LAB/blob/main/EX_1.ipynb\" target=\"_parent\"><img src=\"https://colab.research.google.com/assets/colab-badge.svg\" alt=\"Open In Colab\"/></a>"
      ]
    },
    {
      "cell_type": "code",
      "execution_count": null,
      "metadata": {
        "id": "Zl4DTuQkvksq"
      },
      "outputs": [],
      "source": [
        "import pandas as pd\n",
        "import numpy as np"
      ]
    },
    {
      "cell_type": "code",
      "source": [
        "data = pd.read_csv(\"data.csv\")\n",
        "print(data, \" n ^ * )"
      ],
      "metadata": {
        "id": "El6x2I3Zvln3"
      },
      "execution_count": null,
      "outputs": []
    },
    {
      "cell_type": "code",
      "source": [
        "d= np .array(data)[:,:-1]\n",
        "print(\"n The attributes are: \",d)"
      ],
      "metadata": {
        "id": "f51pXu0Wvlvt"
      },
      "execution_count": null,
      "outputs": []
    },
    {
      "cell_type": "code",
      "source": [
        "target= np.array(data)[:,-1]\n",
        "print(\"n The target is: \", target)"
      ],
      "metadata": {
        "id": "vcpJL9JGvl52"
      },
      "execution_count": null,
      "outputs": []
    },
    {
      "cell_type": "code",
      "source": [
        "def train(c,t):\n",
        "  for i, val in enumerate(t):\n",
        "    if val == \"Yes\": specific_hypothesis = c[i] .copy()\n",
        "    break\n",
        "    for i, val in enumerate(c):\n",
        "      ift[i] == \"Yes\":\n",
        "        for x in range(len(specific_hypothesis)):\n",
        "          if val[x] != specific_hypothesis[x]:\n",
        "            specific_hypothesis [x] =^ prime ?^ prime\n",
        "            else:\n",
        "              pass\n",
        "return specific_hypothesis"
      ],
      "metadata": {
        "id": "f1UKN4rGwK6A"
      },
      "execution_count": null,
      "outputs": []
    },
    {
      "cell_type": "code",
      "source": [
        "[] print(\"n The final hypothesis is:\", train(d, target))"
      ],
      "metadata": {
        "id": "bPXDBcNMvmG0"
      },
      "execution_count": null,
      "outputs": []
    }
  ]
}