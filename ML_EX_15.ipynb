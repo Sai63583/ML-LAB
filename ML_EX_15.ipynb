{
  "nbformat": 4,
  "nbformat_minor": 0,
  "metadata": {
    "colab": {
      "provenance": [],
      "authorship_tag": "ABX9TyOp8rYGZ8BAJIxaX1PGDqll",
      "include_colab_link": true
    },
    "kernelspec": {
      "name": "python3",
      "display_name": "Python 3"
    },
    "language_info": {
      "name": "python"
    }
  },
  "cells": [
    {
      "cell_type": "markdown",
      "metadata": {
        "id": "view-in-github",
        "colab_type": "text"
      },
      "source": [
        "<a href=\"https://colab.research.google.com/github/Sai63583/ML-LAB/blob/main/ML_EX_15.ipynb\" target=\"_parent\"><img src=\"https://colab.research.google.com/assets/colab-badge.svg\" alt=\"Open In Colab\"/></a>"
      ]
    },
    {
      "cell_type": "code",
      "execution_count": null,
      "metadata": {
        "id": "whot__OkjxhT"
      },
      "outputs": [],
      "source": [
        "import numpy as np"
      ]
    },
    {
      "cell_type": "code",
      "source": [
        "class PCA:\n",
        " def __init__(self, n_components):\n",
        "   self.n_components = n_components\n",
        "   self.components = None\n",
        "   self.mean = None"
      ],
      "metadata": {
        "id": "e_pWiHiAlcsx"
      },
      "execution_count": null,
      "outputs": []
    },
    {
      "cell_type": "code",
      "source": [
        "def fit(self, X):\n",
        " # 1. Mean centering\n",
        " self.mean = np.mean(X, axis=0)\n",
        " X -= self.mean"
      ],
      "metadata": {
        "id": "2m7beRnElcpQ"
      },
      "execution_count": null,
      "outputs": []
    },
    {
      "cell_type": "code",
      "source": [
        "# 2. Compute covariance matrix\n",
        "cov_matrix = np.cov(X.T)"
      ],
      "metadata": {
        "id": "pNcDsowKlcnm"
      },
      "execution_count": null,
      "outputs": []
    },
    {
      "cell_type": "code",
      "source": [
        "# 3. Eigen decomposition\n",
        "eigenvalues, eigenvectors = np.linalg.eig(cov_matrix)\n"
      ],
      "metadata": {
        "id": "3XpVvdVWlclT"
      },
      "execution_count": null,
      "outputs": []
    },
    {
      "cell_type": "code",
      "source": [
        "# 4. Sort eigenvectors by eigenvalues\n",
        "indices = np.argsort(eigenvalues)[::-1]\n",
        "eigenvectors = eigenvectors[:, indices]"
      ],
      "metadata": {
        "id": "u4BlS3Belci4"
      },
      "execution_count": null,
      "outputs": []
    },
    {
      "cell_type": "code",
      "source": [
        "# 5. Select top n_components eigenvectors\n",
        "self.components = eigenvectors[:, :self.n_components]"
      ],
      "metadata": {
        "id": "N6sdU9wxlnME"
      },
      "execution_count": null,
      "outputs": []
    },
    {
      "cell_type": "code",
      "source": [
        "def transform(self, X):\n",
        " # Project data onto the principal components\n",
        " X -= self.mean\n",
        " return np.dot(X, self.components)\n"
      ],
      "metadata": {
        "id": "Vyy-L-zDlnIn"
      },
      "execution_count": null,
      "outputs": []
    },
    {
      "cell_type": "code",
      "source": [
        "def fit_transform(self, X):\n",
        " self.fit(X)\n",
        " return self.transform(X)"
      ],
      "metadata": {
        "id": "dDobBmSklnGy"
      },
      "execution_count": null,
      "outputs": []
    },
    {
      "cell_type": "code",
      "source": [
        "# Example usage:\n",
        "if __name__ == \"__main__\":\n",
        " # Sample data\n",
        " X = np.array([[1, 2], [3, 4], [5, 6], [7, 8], [9, 10]])"
      ],
      "metadata": {
        "id": "klW8JBcflxLZ"
      },
      "execution_count": null,
      "outputs": []
    },
    {
      "cell_type": "code",
      "source": [
        "# PCA with 1 component\n",
        "  pca = PCA(n_components=1)\n",
        "  X_pca = pca.fit_transform(X)\n",
        "  print(\"Original data shape:\", X.shape)\n",
        "  print(\"Transformed data shape:\", X_pca.shape)\n",
        "  print(\"Transformed data:\", X_pca)"
      ],
      "metadata": {
        "id": "-3Os7Aitluj_"
      },
      "execution_count": null,
      "outputs": []
    },
    {
      "cell_type": "markdown",
      "source": [
        "OUTPUT:\n",
        "Original data shape: (5, 2)\n",
        "Transformed data shape: (5, 1)\n",
        "Transformed data: [[-4.47213595]\n",
        "[-1.11803399]\n",
        "[ 1.11803399]\n",
        "[ 3.35410197]\n",
        "[ 5.59016994]"
      ],
      "metadata": {
        "id": "Q1IEWmTFl2_6"
      }
    },
    {
      "cell_type": "code",
      "source": [],
      "metadata": {
        "id": "rraHH0bXl65L"
      },
      "execution_count": null,
      "outputs": []
    }
  ]
}